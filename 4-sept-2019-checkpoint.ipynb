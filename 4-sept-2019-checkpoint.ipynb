{
 "cells": [
  {
   "cell_type": "markdown",
   "metadata": {},
   "source": [
    "# Mark down basics"
   ]
  },
  {
   "cell_type": "markdown",
   "metadata": {},
   "source": [
    "* For reference source Markdown cheat sheet\n",
    "* Normal Text\n",
    "* **bold**\n",
    "* *Italic*\n",
    "* ***IB***\n",
    "* Text\n",
    "    * sublist 1\n",
    "    * sublist 2\n",
    "    \n",
    "> 1.Orderd List 1\n",
    "> 2.Ordered List 2\n",
    "\n",
    "- [] option1\n",
    "- [] option 2\n",
    "- [x] option 3\n",
    "\\* escape\n",
    "[link](https://facebook.com)\n",
    "\n",
    "I have 10 items [Google] [1] than form [Yahoo] [2].\n",
    "\n",
    "[1]: http://google.com/       \"Google\"\n",
    "[2]: http://search.yahoo.com/  \"Yahoo\"\n",
    " \n",
    "\n",
    " `printf(\"hello markdown\")`\n",
    " \n",
    " <https://google.com>\n",
    " \n",
    " \n",
    " [jupyter_logo](jupyter.png)\n",
    " \n",
    " <img  src=\"jupyter.png\" height=\"200px\" width=\"200px\" style=\"float:left\"  >\n",
    "\n",
    "\n"
   ]
  },
  {
   "cell_type": "code",
   "execution_count": null,
   "metadata": {},
   "outputs": [],
   "source": []
  }
 ],
 "metadata": {
  "kernelspec": {
   "display_name": "Python 3",
   "language": "python",
   "name": "python3"
  },
  "language_info": {
   "codemirror_mode": {
    "name": "ipython",
    "version": 3
   },
   "file_extension": ".py",
   "mimetype": "text/x-python",
   "name": "python",
   "nbconvert_exporter": "python",
   "pygments_lexer": "ipython3",
   "version": "3.7.3"
  }
 },
 "nbformat": 4,
 "nbformat_minor": 2
}
